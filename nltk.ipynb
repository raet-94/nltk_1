{
 "cells": [
  {
   "cell_type": "code",
   "execution_count": 1,
   "metadata": {},
   "outputs": [],
   "source": [
    "import nltk\n",
    "from nltk.corpus import stopwords\n",
    "## https://likegeeks.com/es/tutorial-de-nlp-con-python-nltk/ 30/06/2020 1:45 pm#"
   ]
  },
  {
   "cell_type": "code",
   "execution_count": 46,
   "metadata": {},
   "outputs": [
    {
     "name": "stdout",
     "output_type": "stream",
     "text": [
      "{'text': '“The world as we have created it is a process of our thinking. It cannot be changed without changing our thinking.”', 'author': 'Albert Einstein', 'tags': ['change', 'deep-thoughts', 'thinking', 'world']}\n",
      "dict_keys(['text', 'author', 'tags'])\n",
      "“The world as we have created it is a process of our thinking. It cannot be changed without changing our thinking.”\n"
     ]
    }
   ],
   "source": [
    "import json \n",
    "#obtenemos el texto que queremos\n",
    "with open(r\"/home/rodrigo/data1/codigo/python/nltk_1/quote.json\") as f:\n",
    "    data = json.load(f)\n",
    "print(data)\n",
    "print(data.keys())\n",
    "print(data['text'])"
   ]
  },
  {
   "cell_type": "markdown",
   "metadata": {},
   "source": [
    "# Limpiar el texto de simbolos y mayusculas"
   ]
  },
  {
   "cell_type": "code",
   "execution_count": 51,
   "metadata": {},
   "outputs": [
    {
     "data": {
      "image/png": "[encoded data removed]",
      "text/plain": [
       "<Figure size 432x288 with 1 Axes>"
      ]
     },
     "metadata": {
      "needs_background": "light"
     },
     "output_type": "display_data"
    },
    {
     "data": {
      "text/plain": [
       "<matplotlib.axes._subplots.AxesSubplot at 0x7fdda4c36fd0>"
      ]
     },
     "execution_count": 51,
     "metadata": {},
     "output_type": "execute_result"
    }
   ],
   "source": [
    "text = data['text']\n",
    "clean_text = text.replace('”',\"\").replace('.','').replace('“','')\n",
    "tokens_1 = [t for t in clean_text.split()]\n",
    "tokens = [t.lower() for t in tokens_1]\n",
    "clean_tokens = tokens[:]\n",
    "freq=nltk.FreqDist(tokens)\n",
    "freq.plot()"
   ]
  },
  {
   "cell_type": "markdown",
   "metadata": {},
   "source": [
    "# Limpiar el texto de stopwords\n",
    "\n",
    "\n",
    "A stop word is a commonly used word (such as “the”, “a”, “an”, “in”) that a search engine \n",
    "has been programmed to ignore, both when indexing entries for searching and when retrieving \n",
    "them as the result of a search query."
   ]
  },
  {
   "cell_type": "code",
   "execution_count": 52,
   "metadata": {},
   "outputs": [
    {
     "data": {
      "image/png": "[encoded data removed]",
      "text/plain": [
       "<Figure size 432x288 with 1 Axes>"
      ]
     },
     "metadata": {
      "needs_background": "light"
     },
     "output_type": "display_data"
    },
    {
     "data": {
      "text/plain": [
       "<matplotlib.axes._subplots.AxesSubplot at 0x7fdda4ba1dd0>"
      ]
     },
     "execution_count": 52,
     "metadata": {},
     "output_type": "execute_result"
    }
   ],
   "source": [
    "sr= stopwords.words('english')\n",
    "for token in tokens:\n",
    "    if token in sr:\n",
    "        clean_tokens.remove(token)\n",
    "freq_clean =nltk.FreqDist(clean_tokens)\n",
    "freq_clean.plot()"
   ]
  },
  {
   "cell_type": "code",
   "execution_count": 40,
   "metadata": {},
   "outputs": [
    {
     "name": "stdout",
     "output_type": "stream",
     "text": [
      "work\n"
     ]
    }
   ],
   "source": [
    "from nltk.stem import PorterStemmer\n",
    "stemmer = PorterStemmer()\n",
    "\n",
    "print(stemmer.stem('working'))"
   ]
  },
  {
   "cell_type": "code",
   "execution_count": 41,
   "metadata": {},
   "outputs": [
    {
     "name": "stdout",
     "output_type": "stream",
     "text": [
      "increase\n"
     ]
    }
   ],
   "source": [
    "from nltk.stem import WordNetLemmatizer\n",
    "\n",
    "lemmatizer = WordNetLemmatizer()\n",
    "\n",
    "print(lemmatizer.lemmatize('increases'))"
   ]
  },
  {
   "cell_type": "code",
   "execution_count": 42,
   "metadata": {},
   "outputs": [
    {
     "data": {
      "text/plain": [
       "['the',\n",
       " 'world',\n",
       " 'a',\n",
       " 'we',\n",
       " 'have',\n",
       " 'created',\n",
       " 'it',\n",
       " 'is',\n",
       " 'a',\n",
       " 'process',\n",
       " 'of',\n",
       " 'our',\n",
       " 'thinking',\n",
       " 'it',\n",
       " 'cannot',\n",
       " 'be',\n",
       " 'changed',\n",
       " 'without',\n",
       " 'changing',\n",
       " 'our',\n",
       " 'thinking']"
      ]
     },
     "execution_count": 42,
     "metadata": {},
     "output_type": "execute_result"
    }
   ],
   "source": [
    "stemmed = [ lemmatizer.lemmatize(w) for w in tokens]\n",
    "stemmed"
   ]
  },
  {
   "cell_type": "code",
   "execution_count": 49,
   "metadata": {},
   "outputs": [
    {
     "name": "stdout",
     "output_type": "stream",
     "text": [
      "play\n",
      "playing\n",
      "playing\n",
      "playing\n"
     ]
    }
   ],
   "source": [
    "from nltk.stem import WordNetLemmatizer\n",
    "\n",
    "lemmatizer = WordNetLemmatizer()\n",
    "\n",
    "print(lemmatizer.lemmatize('playing', pos=\"v\"))\n",
    "\n",
    "print(lemmatizer.lemmatize('playing', pos=\"n\"))\n",
    "\n",
    "print(lemmatizer.lemmatize('playing', pos=\"a\"))\n",
    "\n",
    "print(lemmatizer.lemmatize('playing', pos=\"r\"))"
   ]
  },
  {
   "cell_type": "markdown",
   "metadata": {},
   "source": [
    "# Trabajar con arreglo de jsons\n"
   ]
  },
  {
   "cell_type": "code",
   "execution_count": 63,
   "metadata": {},
   "outputs": [
    {
     "data": {
      "text/plain": [
       "[{'text': '“The world as we have created it is a process of our thinking. It cannot be changed without changing our thinking.”',\n",
       "  'author': 'Albert Einstein',\n",
       "  'tags': ['change', 'deep-thoughts', 'thinking', 'world']},\n",
       " {'text': '“It is our choices, Harry, that show what we truly are, far more than our abilities.”',\n",
       "  'author': 'J.K. Rowling',\n",
       "  'tags': ['abilities', 'choices']},\n",
       " {'text': '“There are only two ways to live your life. One is as though nothing is a miracle. The other is as though everything is a miracle.”',\n",
       "  'author': 'Albert Einstein',\n",
       "  'tags': ['inspirational', 'life', 'live', 'miracle', 'miracles']},\n",
       " {'text': '“The person, be it gentleman or lady, who has not pleasure in a good novel, must be intolerably stupid.”',\n",
       "  'author': 'Jane Austen',\n",
       "  'tags': ['aliteracy', 'books', 'classic', 'humor']},\n",
       " {'text': \"“Imperfection is beauty, madness is genius and it's better to be absolutely ridiculous than absolutely boring.”\",\n",
       "  'author': 'Marilyn Monroe',\n",
       "  'tags': ['be-yourself', 'inspirational']},\n",
       " {'text': '“Try not to become a man of success. Rather become a man of value.”',\n",
       "  'author': 'Albert Einstein',\n",
       "  'tags': ['adulthood', 'success', 'value']},\n",
       " {'text': '“It is better to be hated for what you are than to be loved for what you are not.”',\n",
       "  'author': 'André Gide',\n",
       "  'tags': ['life', 'love']},\n",
       " {'text': \"“I have not failed. I've just found 10,000 ways that won't work.”\",\n",
       "  'author': 'Thomas A. Edison',\n",
       "  'tags': ['edison', 'failure', 'inspirational', 'paraphrased']},\n",
       " {'text': \"“A woman is like a tea bag; you never know how strong it is until it's in hot water.”\",\n",
       "  'author': 'Eleanor Roosevelt',\n",
       "  'tags': ['misattributed-eleanor-roosevelt']},\n",
       " {'text': '“A day without sunshine is like, you know, night.”',\n",
       "  'author': 'Steve Martin',\n",
       "  'tags': ['humor', 'obvious', 'simile']},\n",
       " {'text': \"“This life is what you make it. No matter what, you're going to mess up sometimes, it's a universal truth. But the good part is you get to decide how you're going to mess it up. Girls will be your friends - they'll act like it anyway. But just remember, some come, some go. The ones that stay with you through everything - they're your true best friends. Don't let go of them. Also remember, sisters make the best friends in the world. As for lovers, well, they'll come and go too. And baby, I hate to say it, most of them - actually pretty much all of them are going to break your heart, but you can't give up because if you give up, you'll never find your soulmate. You'll never find that half who makes you whole and that goes for everything. Just because you fail once, doesn't mean you're gonna fail at everything. Keep trying, hold on, and always, always, always believe in yourself, because if you don't, then who will, sweetie? So keep your head high, keep your chin up, and most importantly, keep smiling, because life's a beautiful thing and there's so much to smile about.”\",\n",
       "  'author': 'Marilyn Monroe',\n",
       "  'tags': ['friends',\n",
       "   'heartbreak',\n",
       "   'inspirational',\n",
       "   'life',\n",
       "   'love',\n",
       "   'sisters']},\n",
       " {'text': '“It takes a great deal of bravery to stand up to our enemies, but just as much to stand up to our friends.”',\n",
       "  'author': 'J.K. Rowling',\n",
       "  'tags': ['courage', 'friends']},\n",
       " {'text': \"“If you can't explain it to a six year old, you don't understand it yourself.”\",\n",
       "  'author': 'Albert Einstein',\n",
       "  'tags': ['simplicity', 'understand']},\n",
       " {'text': \"“You may not be her first, her last, or her only. She loved before she may love again. But if she loves you now, what else matters? She's not perfect—you aren't either, and the two of you may never be perfect together but if she can make you laugh, cause you to think twice, and admit to being human and making mistakes, hold onto her and give her the most you can. She may not be thinking about you every second of the day, but she will give you a part of her that she knows you can break—her heart. So don't hurt her, don't change her, don't analyze and don't expect more than she can give. Smile when she makes you happy, let her know when she makes you mad, and miss her when she's not there.”\",\n",
       "  'author': 'Bob Marley',\n",
       "  'tags': ['love']},\n",
       " {'text': '“I like nonsense, it wakes up the brain cells. Fantasy is a necessary ingredient in living.”',\n",
       "  'author': 'Dr. Seuss',\n",
       "  'tags': ['fantasy']},\n",
       " {'text': '“I may not have gone where I intended to go, but I think I have ended up where I needed to be.”',\n",
       "  'author': 'Douglas Adams',\n",
       "  'tags': ['life', 'navigation']},\n",
       " {'text': \"“The opposite of love is not hate, it's indifference. The opposite of art is not ugliness, it's indifference. The opposite of faith is not heresy, it's indifference. And the opposite of life is not death, it's indifference.”\",\n",
       "  'author': 'Elie Wiesel',\n",
       "  'tags': ['activism',\n",
       "   'apathy',\n",
       "   'hate',\n",
       "   'indifference',\n",
       "   'inspirational',\n",
       "   'love',\n",
       "   'opposite',\n",
       "   'philosophy']},\n",
       " {'text': '“It is not a lack of love, but a lack of friendship that makes unhappy marriages.”',\n",
       "  'author': 'Friedrich Nietzsche',\n",
       "  'tags': ['friendship',\n",
       "   'lack-of-friendship',\n",
       "   'lack-of-love',\n",
       "   'love',\n",
       "   'marriage',\n",
       "   'unhappy-marriage']},\n",
       " {'text': '“Good friends, good books, and a sleepy conscience: this is the ideal life.”',\n",
       "  'author': 'Mark Twain',\n",
       "  'tags': ['books', 'contentment', 'friends', 'friendship', 'life']},\n",
       " {'text': '“Life is what happens to us while we are making other plans.”',\n",
       "  'author': 'Allen Saunders',\n",
       "  'tags': ['fate', 'life', 'misattributed-john-lennon', 'planning', 'plans']},\n",
       " {'text': '“I love you without knowing how, or when, or from where. I love you simply, without problems or pride: I love you in this way because I do not know any other way of loving but this, in which there is no I or you, so intimate that your hand upon my chest is my hand, so intimate that when I fall asleep your eyes close.”',\n",
       "  'author': 'Pablo Neruda',\n",
       "  'tags': ['love', 'poetry']},\n",
       " {'text': '“For every minute you are angry you lose sixty seconds of happiness.”',\n",
       "  'author': 'Ralph Waldo Emerson',\n",
       "  'tags': ['happiness']},\n",
       " {'text': '“If you judge people, you have no time to love them.”',\n",
       "  'author': 'Mother Teresa',\n",
       "  'tags': ['attributed-no-source']},\n",
       " {'text': '“Anyone who thinks sitting in church can make you a Christian must also think that sitting in a garage can make you a car.”',\n",
       "  'author': 'Garrison Keillor',\n",
       "  'tags': ['humor', 'religion']},\n",
       " {'text': '“Beauty is in the eye of the beholder and it may be necessary from time to time to give a stupid or misinformed beholder a black eye.”',\n",
       "  'author': 'Jim Henson',\n",
       "  'tags': ['humor']},\n",
       " {'text': '“Today you are You, that is truer than true. There is no one alive who is Youer than You.”',\n",
       "  'author': 'Dr. Seuss',\n",
       "  'tags': ['comedy', 'life', 'yourself']},\n",
       " {'text': '“If you want your children to be intelligent, read them fairy tales. If you want them to be more intelligent, read them more fairy tales.”',\n",
       "  'author': 'Albert Einstein',\n",
       "  'tags': ['children', 'fairy-tales']},\n",
       " {'text': '“It is impossible to live without failing at something, unless you live so cautiously that you might as well not have lived at all - in which case, you fail by default.”',\n",
       "  'author': 'J.K. Rowling',\n",
       "  'tags': []},\n",
       " {'text': '“Logic will get you from A to Z; imagination will get you everywhere.”',\n",
       "  'author': 'Albert Einstein',\n",
       "  'tags': ['imagination']},\n",
       " {'text': '“One good thing about music, when it hits you, you feel no pain.”',\n",
       "  'author': 'Bob Marley',\n",
       "  'tags': ['music']},\n",
       " {'text': \"“The more that you read, the more things you will know. The more that you learn, the more places you'll go.”\",\n",
       "  'author': 'Dr. Seuss',\n",
       "  'tags': ['learning', 'reading', 'seuss']},\n",
       " {'text': '“Of course it is happening inside your head, Harry, but why on earth should that mean that it is not real?”',\n",
       "  'author': 'J.K. Rowling',\n",
       "  'tags': ['dumbledore']},\n",
       " {'text': '“The truth is, everyone is going to hurt you. You just got to find the ones worth suffering for.”',\n",
       "  'author': 'Bob Marley',\n",
       "  'tags': ['friendship']},\n",
       " {'text': '“Not all of us can do great things. But we can do small things with great love.”',\n",
       "  'author': 'Mother Teresa',\n",
       "  'tags': ['misattributed-to-mother-teresa', 'paraphrased']},\n",
       " {'text': '“To the well-organized mind, death is but the next great adventure.”',\n",
       "  'author': 'J.K. Rowling',\n",
       "  'tags': ['death', 'inspirational']},\n",
       " {'text': \"“All you need is love. But a little chocolate now and then doesn't hurt.”\",\n",
       "  'author': 'Charles M. Schulz',\n",
       "  'tags': ['chocolate', 'food', 'humor']},\n",
       " {'text': \"“We read to know we're not alone.”\",\n",
       "  'author': 'William Nicholson',\n",
       "  'tags': ['misattributed-to-c-s-lewis', 'reading']},\n",
       " {'text': '“Any fool can know. The point is to understand.”',\n",
       "  'author': 'Albert Einstein',\n",
       "  'tags': ['knowledge', 'learning', 'understanding', 'wisdom']},\n",
       " {'text': '“I have always imagined that Paradise will be a kind of library.”',\n",
       "  'author': 'Jorge Luis Borges',\n",
       "  'tags': ['books', 'library']},\n",
       " {'text': '“It is never too late to be what you might have been.”',\n",
       "  'author': 'George Eliot',\n",
       "  'tags': ['inspirational']},\n",
       " {'text': '“A reader lives a thousand lives before he dies, said Jojen. The man who never reads lives only one.”',\n",
       "  'author': 'George R.R. Martin',\n",
       "  'tags': ['read', 'readers', 'reading', 'reading-books']},\n",
       " {'text': '“You can never get a cup of tea large enough or a book long enough to suit me.”',\n",
       "  'author': 'C.S. Lewis',\n",
       "  'tags': ['books', 'inspirational', 'reading', 'tea']},\n",
       " {'text': '“You believe lies so you eventually learn to trust no one but yourself.”',\n",
       "  'author': 'Marilyn Monroe',\n",
       "  'tags': []},\n",
       " {'text': '“If you can make a woman laugh, you can make her do anything.”',\n",
       "  'author': 'Marilyn Monroe',\n",
       "  'tags': ['girls', 'love']},\n",
       " {'text': '“Life is like riding a bicycle. To keep your balance, you must keep moving.”',\n",
       "  'author': 'Albert Einstein',\n",
       "  'tags': ['life', 'simile']},\n",
       " {'text': '“The real lover is the man who can thrill you by kissing your forehead or smiling into your eyes or just staring into space.”',\n",
       "  'author': 'Marilyn Monroe',\n",
       "  'tags': ['love']},\n",
       " {'text': \"“A wise girl kisses but doesn't love, listens but doesn't believe, and leaves before she is left.”\",\n",
       "  'author': 'Marilyn Monroe',\n",
       "  'tags': ['attributed-no-source']},\n",
       " {'text': '“Only in the darkness can you see the stars.”',\n",
       "  'author': 'Martin Luther King Jr.',\n",
       "  'tags': ['hope', 'inspirational']},\n",
       " {'text': '“It matters not what someone is born, but what they grow to be.”',\n",
       "  'author': 'J.K. Rowling',\n",
       "  'tags': ['dumbledore']},\n",
       " {'text': '“Love does not begin and end the way we seem to think it does. Love is a battle, love is a war; love is a growing up.”',\n",
       "  'author': 'James Baldwin',\n",
       "  'tags': ['love']},\n",
       " {'text': '“There is nothing I would not do for those who are really my friends. I have no notion of loving people by halves, it is not my nature.”',\n",
       "  'author': 'Jane Austen',\n",
       "  'tags': ['friendship', 'love']},\n",
       " {'text': '“Do one thing every day that scares you.”',\n",
       "  'author': 'Eleanor Roosevelt',\n",
       "  'tags': ['attributed', 'fear', 'inspiration']},\n",
       " {'text': '“I am good, but not an angel. I do sin, but I am not the devil. I am just a small girl in a big world trying to find someone to love.”',\n",
       "  'author': 'Marilyn Monroe',\n",
       "  'tags': ['attributed-no-source']},\n",
       " {'text': '“If I were not a physicist, I would probably be a musician. I often think in music. I live my daydreams in music. I see my life in terms of music.”',\n",
       "  'author': 'Albert Einstein',\n",
       "  'tags': ['music']},\n",
       " {'text': '“If you only read the books that everyone else is reading, you can only think what everyone else is thinking.”',\n",
       "  'author': 'Haruki Murakami',\n",
       "  'tags': ['books', 'thought']},\n",
       " {'text': '“The difference between genius and stupidity is: genius has its limits.”',\n",
       "  'author': 'Alexandre Dumas fils',\n",
       "  'tags': ['misattributed-to-einstein']},\n",
       " {'text': \"“He's like a drug for you, Bella.”\",\n",
       "  'author': 'Stephenie Meyer',\n",
       "  'tags': ['drug', 'romance', 'simile']},\n",
       " {'text': '“There is no friend as loyal as a book.”',\n",
       "  'author': 'Ernest Hemingway',\n",
       "  'tags': ['books', 'friends', 'novelist-quotes']},\n",
       " {'text': '“When one door of happiness closes, another opens; but often we look so long at the closed door that we do not see the one which has been opened for us.”',\n",
       "  'author': 'Helen Keller',\n",
       "  'tags': ['inspirational']},\n",
       " {'text': \"“Life isn't about finding yourself. Life is about creating yourself.”\",\n",
       "  'author': 'George Bernard Shaw',\n",
       "  'tags': ['inspirational', 'life', 'yourself']},\n",
       " {'text': \"“That's the problem with drinking, I thought, as I poured myself a drink. If something bad happens you drink in an attempt to forget; if something good happens you drink in order to celebrate; and if nothing happens you drink to make something happen.”\",\n",
       "  'author': 'Charles Bukowski',\n",
       "  'tags': ['alcohol']},\n",
       " {'text': '“You don’t forget the face of the person who was your last hope.”',\n",
       "  'author': 'Suzanne Collins',\n",
       "  'tags': ['the-hunger-games']},\n",
       " {'text': \"“Remember, we're madly in love, so it's all right to kiss me anytime you feel like it.”\",\n",
       "  'author': 'Suzanne Collins',\n",
       "  'tags': ['humor']},\n",
       " {'text': '“To love at all is to be vulnerable. Love anything and your heart will be wrung and possibly broken. If you want to make sure of keeping it intact you must give it to no one, not even an animal. Wrap it carefully round with hobbies and little luxuries; avoid all entanglements. Lock it up safe in the casket or coffin of your selfishness. But in that casket, safe, dark, motionless, airless, it will change. It will not be broken; it will become unbreakable, impenetrable, irredeemable. To love is to be vulnerable.”',\n",
       "  'author': 'C.S. Lewis',\n",
       "  'tags': ['love']},\n",
       " {'text': '“Not all those who wander are lost.”',\n",
       "  'author': 'J.R.R. Tolkien',\n",
       "  'tags': ['bilbo', 'journey', 'lost', 'quest', 'travel', 'wander']},\n",
       " {'text': '“Do not pity the dead, Harry. Pity the living, and, above all those who live without love.”',\n",
       "  'author': 'J.K. Rowling',\n",
       "  'tags': ['live-death-love']},\n",
       " {'text': '“There is nothing to writing. All you do is sit down at a typewriter and bleed.”',\n",
       "  'author': 'Ernest Hemingway',\n",
       "  'tags': ['good', 'writing']},\n",
       " {'text': '“Finish each day and be done with it. You have done what you could. Some blunders and absurdities no doubt crept in; forget them as soon as you can. Tomorrow is a new day. You shall begin it serenely and with too high a spirit to be encumbered with your old nonsense.”',\n",
       "  'author': 'Ralph Waldo Emerson',\n",
       "  'tags': ['life', 'regrets']},\n",
       " {'text': '“I have never let my schooling interfere with my education.”',\n",
       "  'author': 'Mark Twain',\n",
       "  'tags': ['education']},\n",
       " {'text': \"“I have heard there are troubles of more than one kind. Some come from ahead and some come from behind. But I've bought a big bat. I'm all ready you see. Now my troubles are going to have troubles with me!”\",\n",
       "  'author': 'Dr. Seuss',\n",
       "  'tags': ['troubles']},\n",
       " {'text': '“If I had a flower for every time I thought of you...I could walk through my garden forever.”',\n",
       "  'author': 'Alfred Tennyson',\n",
       "  'tags': ['friendship', 'love']},\n",
       " {'text': '“Some people never go crazy. What truly horrible lives they must lead.”',\n",
       "  'author': 'Charles Bukowski',\n",
       "  'tags': ['humor']},\n",
       " {'text': '“The trouble with having an open mind, of course, is that people will insist on coming along and trying to put things in it.”',\n",
       "  'author': 'Terry Pratchett',\n",
       "  'tags': ['humor', 'open-mind', 'thinking']},\n",
       " {'text': '“Think left and think right and think low and think high. Oh, the thinks you can think up if only you try!”',\n",
       "  'author': 'Dr. Seuss',\n",
       "  'tags': ['humor', 'philosophy']},\n",
       " {'text': \"“What really knocks me out is a book that, when you're all done reading it, you wish the author that wrote it was a terrific friend of yours and you could call him up on the phone whenever you felt like it. That doesn't happen much, though.”\",\n",
       "  'author': 'J.D. Salinger',\n",
       "  'tags': ['authors', 'books', 'literature', 'reading', 'writing']},\n",
       " {'text': '“The reason I talk to myself is because I’m the only one whose answers I accept.”',\n",
       "  'author': 'George Carlin',\n",
       "  'tags': ['humor', 'insanity', 'lies', 'lying', 'self-indulgence', 'truth']},\n",
       " {'text': \"“You may say I'm a dreamer, but I'm not the only one. I hope someday you'll join us. And the world will live as one.”\",\n",
       "  'author': 'John Lennon',\n",
       "  'tags': ['beatles',\n",
       "   'connection',\n",
       "   'dreamers',\n",
       "   'dreaming',\n",
       "   'dreams',\n",
       "   'hope',\n",
       "   'inspirational',\n",
       "   'peace']},\n",
       " {'text': '“I am free of all prejudice. I hate everyone equally. ”',\n",
       "  'author': 'W.C. Fields',\n",
       "  'tags': ['humor', 'sinister']},\n",
       " {'text': \"“The question isn't who is going to let me; it's who is going to stop me.”\",\n",
       "  'author': 'Ayn Rand',\n",
       "  'tags': []},\n",
       " {'text': \"“′Classic′ - a book which people praise and don't read.”\",\n",
       "  'author': 'Mark Twain',\n",
       "  'tags': ['books', 'classic', 'reading']},\n",
       " {'text': '“Anyone who has never made a mistake has never tried anything new.”',\n",
       "  'author': 'Albert Einstein',\n",
       "  'tags': ['mistakes']},\n",
       " {'text': \"“A lady's imagination is very rapid; it jumps from admiration to love, from love to matrimony in a moment.”\",\n",
       "  'author': 'Jane Austen',\n",
       "  'tags': ['humor', 'love', 'romantic', 'women']},\n",
       " {'text': '“Remember, if the time should come when you have to make a choice between what is right and what is easy, remember what happened to a boy who was good, and kind, and brave, because he strayed across the path of Lord Voldemort. Remember Cedric Diggory.”',\n",
       "  'author': 'J.K. Rowling',\n",
       "  'tags': ['integrity']},\n",
       " {'text': '“I declare after all there is no enjoyment like reading! How much sooner one tires of any thing than of a book! -- When I have a house of my own, I shall be miserable if I have not an excellent library.”',\n",
       "  'author': 'Jane Austen',\n",
       "  'tags': ['books', 'library', 'reading']},\n",
       " {'text': '“There are few people whom I really love, and still fewer of whom I think well. The more I see of the world, the more am I dissatisfied with it; and every day confirms my belief of the inconsistency of all human characters, and of the little dependence that can be placed on the appearance of merit or sense.”',\n",
       "  'author': 'Jane Austen',\n",
       "  'tags': ['elizabeth-bennet', 'jane-austen']},\n",
       " {'text': '“Some day you will be old enough to start reading fairy tales again.”',\n",
       "  'author': 'C.S. Lewis',\n",
       "  'tags': ['age', 'fairytales', 'growing-up']},\n",
       " {'text': '“We are not necessarily doubting that God will do the best for us; we are wondering how painful the best will turn out to be.”',\n",
       "  'author': 'C.S. Lewis',\n",
       "  'tags': ['god']},\n",
       " {'text': '“The fear of death follows from the fear of life. A man who lives fully is prepared to die at any time.”',\n",
       "  'author': 'Mark Twain',\n",
       "  'tags': ['death', 'life']},\n",
       " {'text': '“A lie can travel half way around the world while the truth is putting on its shoes.”',\n",
       "  'author': 'Mark Twain',\n",
       "  'tags': ['misattributed-mark-twain', 'truth']},\n",
       " {'text': '“I believe in Christianity as I believe that the sun has risen: not only because I see it, but because by it I see everything else.”',\n",
       "  'author': 'C.S. Lewis',\n",
       "  'tags': ['christianity', 'faith', 'religion', 'sun']},\n",
       " {'text': '“The truth.\" Dumbledore sighed. \"It is a beautiful and terrible thing, and should therefore be treated with great caution.”',\n",
       "  'author': 'J.K. Rowling',\n",
       "  'tags': ['truth']},\n",
       " {'text': \"“I'm the one that's got to die when it's time for me to die, so let me live my life the way I want to.”\",\n",
       "  'author': 'Jimi Hendrix',\n",
       "  'tags': ['death', 'life']},\n",
       " {'text': '“To die will be an awfully big adventure.”',\n",
       "  'author': 'J.M. Barrie',\n",
       "  'tags': ['adventure', 'love']},\n",
       " {'text': '“It takes courage to grow up and become who you really are.”',\n",
       "  'author': 'E.E. Cummings',\n",
       "  'tags': ['courage']},\n",
       " {'text': '“But better to get hurt by the truth than comforted with a lie.”',\n",
       "  'author': 'Khaled Hosseini',\n",
       "  'tags': ['life']},\n",
       " {'text': '“You never really understand a person until you consider things from his point of view... Until you climb inside of his skin and walk around in it.”',\n",
       "  'author': 'Harper Lee',\n",
       "  'tags': ['better-life-empathy']},\n",
       " {'text': '“You have to write the book that wants to be written. And if the book will be too difficult for grown-ups, then you write it for children.”',\n",
       "  'author': \"Madeleine L'Engle\",\n",
       "  'tags': ['books',\n",
       "   'children',\n",
       "   'difficult',\n",
       "   'grown-ups',\n",
       "   'write',\n",
       "   'writers',\n",
       "   'writing']},\n",
       " {'text': '“Never tell the truth to people who are not worthy of it.”',\n",
       "  'author': 'Mark Twain',\n",
       "  'tags': ['truth']},\n",
       " {'text': \"“A person's a person, no matter how small.”\",\n",
       "  'author': 'Dr. Seuss',\n",
       "  'tags': ['inspirational']},\n",
       " {'text': '“... a mind needs books as a sword needs a whetstone, if it is to keep its edge.”',\n",
       "  'author': 'George R.R. Martin',\n",
       "  'tags': ['books', 'mind']}]"
      ]
     },
     "execution_count": 63,
     "metadata": {},
     "output_type": "execute_result"
    }
   ],
   "source": [
    "\n",
    "with open(r\"/home/rodrigo/data1/codigo/python/nltk_1/quotes.json\") as f:\n",
    "    json_array = json.load(f)\n",
    "    quotes_list =[]\n",
    "    for item in json_array:\n",
    "        quote_details = {\"text\":None, \"author\":None, \"tags\": None}\n",
    "        quote_details['text'] = item['text']\n",
    "        quote_details['author'] = item['author']\n",
    "        quote_details['tags'] = item['tags']\n",
    "        quotes_list.append(quote_details) \n",
    "quotes_list        "
   ]
  },
  {
   "cell_type": "code",
   "execution_count": null,
   "metadata": {},
   "outputs": [],
   "source": [
    "import json\n",
    "\n",
    "input_file = open ('stores-small.json')\n",
    "json_array = json.load(input_file)\n",
    "store_list = []\n",
    "\n",
    "for item in json_array:\n",
    "    store_details = {\"name\":None, \"city\":None}\n",
    "    store_details['name'] = item['name']\n",
    "    store_details['city'] = item['city']\n",
    "    store_list.append(store_details)\n",
    "\n",
    "print(store_list)"
   ]
  }
 ],
 "metadata": {
  "kernelspec": {
   "display_name": "Python 3",
   "language": "python",
   "name": "python3"
  },
  "language_info": {
   "codemirror_mode": {
    "name": "ipython",
    "version": 3
   },
   "file_extension": ".py",
   "mimetype": "text/x-python",
   "name": "python",
   "nbconvert_exporter": "python",
   "pygments_lexer": "ipython3",
   "version": "3.7.6"
  }
 },
 "nbformat": 4,
 "nbformat_minor": 4
}
